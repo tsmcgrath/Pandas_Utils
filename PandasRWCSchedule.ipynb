{
 "cells": [
  {
   "cell_type": "markdown",
   "metadata": {},
   "source": [
    "# Pandas Code to suck in RWC 2023 schedule\n",
    "### Just running through some tutorial tests to insure it's all imported correctly"
   ]
  },
  {
   "cell_type": "code",
   "execution_count": null,
   "metadata": {},
   "outputs": [],
   "source": [
    "import pandas as pd\n",
    "import numpy as np\n",
    "import matplotlib.pyplot as plt\n",
    "from unicodedata import normalize\n",
    "from IPython.display import display, HTML"
   ]
  },
  {
   "cell_type": "code",
   "execution_count": null,
   "metadata": {},
   "outputs": [],
   "source": [
    "pd.__version__\n"
   ]
  },
  {
   "cell_type": "code",
   "execution_count": null,
   "metadata": {},
   "outputs": [],
   "source": [
    "np.__version__"
   ]
  },
  {
   "cell_type": "code",
   "execution_count": null,
   "metadata": {},
   "outputs": [],
   "source": [
    "pd.options.display.max_columns = None"
   ]
  },
  {
   "cell_type": "code",
   "execution_count": null,
   "metadata": {},
   "outputs": [],
   "source": [
    "table_MN = pd.read_html('https://en.wikipedia.org/wiki/Minnesota')"
   ]
  },
  {
   "cell_type": "code",
   "execution_count": null,
   "metadata": {},
   "outputs": [],
   "source": [
    "print(f'Total tables: {len(table_MN)}')"
   ]
  },
  {
   "cell_type": "code",
   "execution_count": null,
   "metadata": {},
   "outputs": [],
   "source": [
    "table_MN = pd.read_html('https://en.wikipedia.org/wiki/Minnesota', match='Election results from statewide races')\n",
    "len(table_MN)"
   ]
  },
  {
   "cell_type": "code",
   "execution_count": null,
   "metadata": {},
   "outputs": [],
   "source": [
    "df = table_MN[0]\n",
    "df.head()"
   ]
  },
  {
   "cell_type": "markdown",
   "metadata": {},
   "source": [
    "## RWC 2023 Fixtures"
   ]
  },
  {
   "cell_type": "markdown",
   "metadata": {},
   "source": [
    "RWC 2023 official schedule: https://www.rugbyworldcup.com/2023/matches\n",
    "RWC 2023 Wikipedia page with uniform tables: https://en.wikipedia.org/wiki/2023_Rugby_World_Cup"
   ]
  },
  {
   "cell_type": "code",
   "execution_count": null,
   "metadata": {},
   "outputs": [],
   "source": [
    "table_RWC = pd.read_html('https://en.wikipedia.org/wiki/2023_Rugby_World_Cup')"
   ]
  },
  {
   "cell_type": "code",
   "execution_count": null,
   "metadata": {},
   "outputs": [],
   "source": [
    "print(f'Total tables: {len(table_RWC)}')"
   ]
  },
  {
   "cell_type": "code",
   "execution_count": null,
   "metadata": {},
   "outputs": [],
   "source": [
    "df = table_RWC[0]\n",
    "df.head()"
   ]
  },
  {
   "cell_type": "code",
   "execution_count": null,
   "metadata": {},
   "outputs": [],
   "source": [
    "display(*table_RWC)"
   ]
  },
  {
   "cell_type": "markdown",
   "metadata": {},
   "source": [
    "The Tables with the pool schedules are: 5, 7, 9, 11"
   ]
  },
  {
   "cell_type": "code",
   "execution_count": null,
   "metadata": {},
   "outputs": [],
   "source": [
    "display(table_RWC[5])"
   ]
  },
  {
   "cell_type": "code",
   "execution_count": 26,
   "metadata": {},
   "outputs": [],
   "source": [
    "poolA = table_RWC[5]"
   ]
  },
  {
   "cell_type": "code",
   "execution_count": 27,
   "metadata": {},
   "outputs": [
    {
     "data": {
      "text/html": [
       "<div>\n",
       "<style scoped>\n",
       "    .dataframe tbody tr th:only-of-type {\n",
       "        vertical-align: middle;\n",
       "    }\n",
       "\n",
       "    .dataframe tbody tr th {\n",
       "        vertical-align: top;\n",
       "    }\n",
       "\n",
       "    .dataframe thead th {\n",
       "        text-align: right;\n",
       "    }\n",
       "</style>\n",
       "<table border=\"1\" class=\"dataframe\">\n",
       "  <thead>\n",
       "    <tr style=\"text-align: right;\">\n",
       "      <th></th>\n",
       "      <th>Unnamed: 0</th>\n",
       "      <th>Unnamed: 1</th>\n",
       "      <th>Unnamed: 2</th>\n",
       "      <th>Unnamed: 3</th>\n",
       "      <th>Unnamed: 4</th>\n",
       "    </tr>\n",
       "  </thead>\n",
       "  <tbody>\n",
       "    <tr>\n",
       "      <th>0</th>\n",
       "      <td>8 September 2023</td>\n",
       "      <td>France</td>\n",
       "      <td>v</td>\n",
       "      <td>New Zealand</td>\n",
       "      <td>Stade de France, Saint-Denis</td>\n",
       "    </tr>\n",
       "    <tr>\n",
       "      <th>1</th>\n",
       "      <td>9 September 2023</td>\n",
       "      <td>Italy</td>\n",
       "      <td>v</td>\n",
       "      <td>Africa 1</td>\n",
       "      <td>Stade Geoffroy Guichard, Saint-Etienne</td>\n",
       "    </tr>\n",
       "    <tr>\n",
       "      <th>2</th>\n",
       "      <td>14 September 2023</td>\n",
       "      <td>France</td>\n",
       "      <td>v</td>\n",
       "      <td>Americas 1</td>\n",
       "      <td>Stade Pierre-Mauroy, Lille</td>\n",
       "    </tr>\n",
       "    <tr>\n",
       "      <th>3</th>\n",
       "      <td>15 September 2023</td>\n",
       "      <td>New Zealand</td>\n",
       "      <td>v</td>\n",
       "      <td>Africa 1</td>\n",
       "      <td>Stadium, Toulouse</td>\n",
       "    </tr>\n",
       "    <tr>\n",
       "      <th>4</th>\n",
       "      <td>20 September 2023</td>\n",
       "      <td>Italy</td>\n",
       "      <td>v</td>\n",
       "      <td>Americas 1</td>\n",
       "      <td>Allianz Riviera, Nice</td>\n",
       "    </tr>\n",
       "    <tr>\n",
       "      <th>5</th>\n",
       "      <td>21 September 2023</td>\n",
       "      <td>France</td>\n",
       "      <td>v</td>\n",
       "      <td>Africa 1</td>\n",
       "      <td>Stade Vélodrome, Marseille</td>\n",
       "    </tr>\n",
       "    <tr>\n",
       "      <th>6</th>\n",
       "      <td>27 September 2023</td>\n",
       "      <td>Americas 1</td>\n",
       "      <td>v</td>\n",
       "      <td>Africa 1</td>\n",
       "      <td>Groupama Stadium, Décines-Charpieu</td>\n",
       "    </tr>\n",
       "    <tr>\n",
       "      <th>7</th>\n",
       "      <td>29 September 2023</td>\n",
       "      <td>New Zealand</td>\n",
       "      <td>v</td>\n",
       "      <td>Italy</td>\n",
       "      <td>Groupama Stadium, Décines-Charpieu</td>\n",
       "    </tr>\n",
       "    <tr>\n",
       "      <th>8</th>\n",
       "      <td>5 October 2023</td>\n",
       "      <td>New Zealand</td>\n",
       "      <td>v</td>\n",
       "      <td>Americas 1</td>\n",
       "      <td>Groupama Stadium, Décines-Charpieu</td>\n",
       "    </tr>\n",
       "    <tr>\n",
       "      <th>9</th>\n",
       "      <td>6 October 2023</td>\n",
       "      <td>France</td>\n",
       "      <td>v</td>\n",
       "      <td>Italy</td>\n",
       "      <td>Groupama Stadium, Décines-Charpieu</td>\n",
       "    </tr>\n",
       "  </tbody>\n",
       "</table>\n",
       "</div>"
      ],
      "text/plain": [
       "          Unnamed: 0   Unnamed: 1 Unnamed: 2   Unnamed: 3  \\\n",
       "0   8 September 2023       France          v  New Zealand   \n",
       "1   9 September 2023        Italy          v     Africa 1   \n",
       "2  14 September 2023       France          v   Americas 1   \n",
       "3  15 September 2023  New Zealand          v     Africa 1   \n",
       "4  20 September 2023        Italy          v   Americas 1   \n",
       "5  21 September 2023       France          v     Africa 1   \n",
       "6  27 September 2023   Americas 1          v     Africa 1   \n",
       "7  29 September 2023  New Zealand          v        Italy   \n",
       "8     5 October 2023  New Zealand          v   Americas 1   \n",
       "9     6 October 2023       France          v        Italy   \n",
       "\n",
       "                               Unnamed: 4  \n",
       "0            Stade de France, Saint-Denis  \n",
       "1  Stade Geoffroy Guichard, Saint-Etienne  \n",
       "2              Stade Pierre-Mauroy, Lille  \n",
       "3                       Stadium, Toulouse  \n",
       "4                   Allianz Riviera, Nice  \n",
       "5              Stade Vélodrome, Marseille  \n",
       "6      Groupama Stadium, Décines-Charpieu  \n",
       "7      Groupama Stadium, Décines-Charpieu  \n",
       "8      Groupama Stadium, Décines-Charpieu  \n",
       "9      Groupama Stadium, Décines-Charpieu  "
      ]
     },
     "metadata": {},
     "output_type": "display_data"
    }
   ],
   "source": [
    "display(poolA)"
   ]
  },
  {
   "cell_type": "code",
   "execution_count": 28,
   "metadata": {},
   "outputs": [],
   "source": [
    "poolB = table_RWC[7]\n",
    "poolC = table_RWC[9]\n",
    "poolD = table_RWC[11]"
   ]
  },
  {
   "cell_type": "code",
   "execution_count": 29,
   "metadata": {},
   "outputs": [],
   "source": [
    "rwc_pools = [poolA, poolB, poolC, poolD]"
   ]
  },
  {
   "cell_type": "code",
   "execution_count": 55,
   "metadata": {},
   "outputs": [
    {
     "name": "stdout",
     "output_type": "stream",
     "text": [
      "Total matches Pool A: 10\n"
     ]
    }
   ],
   "source": [
    "print(f'Total matches Pool A: {len(poolA)}')"
   ]
  },
  {
   "cell_type": "markdown",
   "metadata": {},
   "source": [
    "Match Dates Pool A:"
   ]
  },
  {
   "cell_type": "code",
   "execution_count": 65,
   "metadata": {},
   "outputs": [
    {
     "data": {
      "text/html": [
       "<div>\n",
       "<style scoped>\n",
       "    .dataframe tbody tr th:only-of-type {\n",
       "        vertical-align: middle;\n",
       "    }\n",
       "\n",
       "    .dataframe tbody tr th {\n",
       "        vertical-align: top;\n",
       "    }\n",
       "\n",
       "    .dataframe thead th {\n",
       "        text-align: right;\n",
       "    }\n",
       "</style>\n",
       "<table border=\"1\" class=\"dataframe\">\n",
       "  <thead>\n",
       "    <tr style=\"text-align: right;\">\n",
       "      <th></th>\n",
       "      <th>Unnamed: 0</th>\n",
       "    </tr>\n",
       "  </thead>\n",
       "  <tbody>\n",
       "    <tr>\n",
       "      <th>0</th>\n",
       "      <td>8 September 2023</td>\n",
       "    </tr>\n",
       "    <tr>\n",
       "      <th>1</th>\n",
       "      <td>9 September 2023</td>\n",
       "    </tr>\n",
       "    <tr>\n",
       "      <th>2</th>\n",
       "      <td>14 September 2023</td>\n",
       "    </tr>\n",
       "    <tr>\n",
       "      <th>3</th>\n",
       "      <td>15 September 2023</td>\n",
       "    </tr>\n",
       "    <tr>\n",
       "      <th>4</th>\n",
       "      <td>20 September 2023</td>\n",
       "    </tr>\n",
       "    <tr>\n",
       "      <th>5</th>\n",
       "      <td>21 September 2023</td>\n",
       "    </tr>\n",
       "    <tr>\n",
       "      <th>6</th>\n",
       "      <td>27 September 2023</td>\n",
       "    </tr>\n",
       "    <tr>\n",
       "      <th>7</th>\n",
       "      <td>29 September 2023</td>\n",
       "    </tr>\n",
       "    <tr>\n",
       "      <th>8</th>\n",
       "      <td>5 October 2023</td>\n",
       "    </tr>\n",
       "    <tr>\n",
       "      <th>9</th>\n",
       "      <td>6 October 2023</td>\n",
       "    </tr>\n",
       "  </tbody>\n",
       "</table>\n",
       "</div>"
      ],
      "text/plain": [
       "          Unnamed: 0\n",
       "0   8 September 2023\n",
       "1   9 September 2023\n",
       "2  14 September 2023\n",
       "3  15 September 2023\n",
       "4  20 September 2023\n",
       "5  21 September 2023\n",
       "6  27 September 2023\n",
       "7  29 September 2023\n",
       "8     5 October 2023\n",
       "9     6 October 2023"
      ]
     },
     "execution_count": 65,
     "metadata": {},
     "output_type": "execute_result"
    }
   ],
   "source": [
    "poolA.iloc[:10, [0]]"
   ]
  },
  {
   "cell_type": "code",
   "execution_count": 69,
   "metadata": {},
   "outputs": [],
   "source": [
    "poolA.to_csv('PoolA.csv', encoding='utf-8')"
   ]
  },
  {
   "cell_type": "code",
   "execution_count": null,
   "metadata": {},
   "outputs": [],
   "source": []
  }
 ],
 "metadata": {
  "kernelspec": {
   "display_name": "Python 3",
   "language": "python",
   "name": "python3"
  },
  "language_info": {
   "name": ""
  }
 },
 "nbformat": 4,
 "nbformat_minor": 4
}
